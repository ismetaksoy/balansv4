{
 "cells": [
  {
   "cell_type": "code",
   "execution_count": 24,
   "metadata": {},
   "outputs": [],
   "source": [
    "import sqlite3\n",
    "import pandas as pd\n",
    "from sqlalchemy import create_engine"
   ]
  },
  {
   "cell_type": "code",
   "execution_count": 25,
   "metadata": {},
   "outputs": [],
   "source": [
    "def GetRendement(x):\n",
    "    ### 1: creeeren van brug tussen sql query en database\n",
    "    ### 2a: bepaal de eindwaarde per dag voor klant x\n",
    "    ### 2b: bepaal de stortingen per dag voor klant x\n",
    "    ### 2c: bepaal de deponeringen per dag voor klant x\n",
    "    ### 2d: bepaal de onttrekkingen per dag voor klant x\n",
    "    ### 2e: bepaal de lichtingen per dag voor klant x\n",
    "     \n",
    "    \n",
    "    ### 1: creeeren van brug tussen sql query en database\n",
    "    engine = create_engine('sqlite:///DatabaseVB.db')\n",
    "    \n",
    "    \n",
    "    ### 2a: bepaal de eindwaarde per dag voor klant x (datum, eindwaarde)\n",
    "    df_posrecon = pd.read_sql(f'''SELECT \"Datum\", ROUND(sum(\"Current_Value_in_EUR\"),2) as \"Eind Waarde\" FROM Posrecon WHERE \"Account_Number\" = \"{x}\" group by \"Datum\" order by \"Datum\"''', con = engine).set_index('Datum')\n",
    "    \n",
    "    \n",
    "    ### 2b: bepaal de stortingen per dag voor klant x (datum, stortingen)\n",
    "    ### (som van kolom invoice amount, indien OF (Transaction Type Code=O-G en Reference Code=5026) OF (Transaction Type Code=O-G en Reference Code=5000 en kolom invoice amount >0)\n",
    "    df_stortingen = pd.read_sql (f'''  SELECT \"Datum\", sum(\"Invoice_Amount\") as \"Stortingen\" FROM Traderecon WHERE \"Account_Number\" = \"{x}\"  AND \"Reference_Code\" = 5026 OR (\"Account_Number\" = \"{x}\" AND \"Reference_Code\" = 5000 AND \"Invoice_Amount\" > 0) group by \"Datum\" order by \"Datum\" ''', con = engine).set_index('Datum')\n",
    "    \n",
    "    \n",
    "    ### 2c: bepaal de deponeringen per dag voor klant x (datum, deponeringen)\n",
    "    ### som van kolom Deposit Value, indien (1) Transaction Type Code = D, of (2) Transaction Type Code = O en Deposit value > 0. \n",
    "    \n",
    "    df_deponeringen = pd.read_sql (f''' SELECT \"Datum\", sum(\"Deposit_Value\") as Deponeringen FROM Traderecon WHERE (\"Account_Number\" = \"{x}\" AND \"Transaction_Type_Code\" = \"D\") OR (\"Account_Number\" = \"{x}\" AND \"Transaction_Type_Code\" = \"O\" AND \"Deposit_Value\" > 0) group by \"Datum\" order by \"Datum\" ''', con = engine).set_index('Datum')\n",
    "    \n",
    "    \n",
    "    ### 2d: bepaal de onttrekkingen per dag voor klant x (datum, onttrekkingen)\n",
    "    ### (som van kolom invoice amount *-1, indien (1) Reference Code=5025, (2) Reference Code=5000 en invoice amount < 0.   \n",
    "    df_onttrekking = pd.read_sql (f''' SELECT Datum, sum(\"Invoice_Amount\")*-1 as \"Onttrekkingen\" FROM Traderecon WHERE (\"Account_Number\" = \"{x}\" AND \"Reference_Code\" = 5025) OR (\"Account_Number\" = \"{x}\" AND \"Reference_Code\" = 5000 AND \"Invoice_Amount\" < 0) group by \"Datum\" order by \"Datum\" ''', con = engine).set_index('Datum')\n",
    "    \n",
    "\n",
    "    ### 2e: bepaal de lichtingen per dag voor klant x (datum, lichtingen)\n",
    "    ### som van kolom Deposit Value *-1, indien (1) Transaction Type Code = L, of (2) Transaction Type Code = O en Deposit value < 0. \n",
    "    df_lichtingen = pd.read_sql (f''' SELECT Datum, sum(\"Deposit_Value\")*-1 as \"Lichtingen\"  FROM Traderecon WHERE (\"Account_Number\" = \"{x}\" AND \"Transaction_Type_Code\" = \"L\") OR (\"Account_Number\" = \"{x}\" AND \"Transaction_Type_Code\" = \"O\" AND \"Deposit_Value\" < 0) group by \"Datum\" order by \"Datum\" ''', con = engine).set_index('Datum')\n",
    "\n",
    "\n",
    "    # Concat de 4 dataframes uit de Traderecon query in 1 dataframe en merge deze met de Posrecon dataframe\n",
    "    traderecon_data = [df_onttrekking, df_stortingen, df_lichtingen, df_deponeringen]\n",
    "    df_tot_tr = pd.concat(traderecon_data).fillna(0).groupby(['Datum']).sum()\n",
    "    df_final = df_posrecon.merge(df_tot_tr, on='Datum', how='outer')\n",
    "    \n",
    "    ### VOEG DE OVERBOEKINGEN AAN DE DATAFRAME MET DE WAARDES PORTEFEUILLE\n",
    "    traderecon_columns = ['Onttrekkingen', 'Stortingen', 'Lichtingen', 'Deponeringen']\n",
    "    df_final[traderecon_columns] = df_final[traderecon_columns].fillna(0.0)\n",
    "    \n",
    "    \n",
    "    ### MAAK KOLOM ACTUELE RENDEMENT EN BEREKEN RENDEMENT VAN WAARDE PORTEFEUILLE EN ONTTREKKINGEN / STORTINGEN\n",
    "    # start waarde is de eind waarde van de vorige dag\n",
    "    df_final['Start Waarde'] = df_final[\"Eind Waarde\"].shift(1)\n",
    "    #df_final['Start Waarde'] = df_final[\"Start Waarde\"].fillna(df_final[\"Eind Waarde\"])\n",
    "    df_final['Eind Waarde'] = df_final['Eind Waarde'].fillna(df_final['Start Waarde'] + df_final['Stortingen'] + \n",
    "                                                             df_final['Deponeringen'] - df_final['Onttrekkingen'] - \n",
    "                                                             df_final['Lichtingen'])\n",
    "\n",
    "    df_final['Dag Rendement'] = ((df_final['Eind Waarde'] - df_final['Start Waarde'] - df_final['Stortingen'] - df_final['Deponeringen'] + df_final['Onttrekkingen'] + df_final['Lichtingen'] ) ) / (df_final['Start Waarde'] + df_final['Stortingen'] + df_final['Deponeringen'] - df_final['Onttrekkingen'] - df_final['Lichtingen']).round(5)\n",
    "    df_final['Dag Rendement'] = df_final['Dag Rendement'].fillna(0)  \n",
    "    \n",
    "    \n",
    "    df_final['EW Portfolio Cumulatief Rendement'] = (1 + df_final['Dag Rendement']).cumprod()\n",
    "\n",
    "    df_final['SW Portfolio Cumulatief Rendement'] = df_final['EW Portfolio Cumulatief Rendement'].shift(1)\n",
    "    df_final['SW Portfolio Cumulatief Rendement'] = df_final['SW Portfolio Cumulatief Rendement'].fillna(1)\n",
    "    #df_final['SW Portfolio Cumulatief Rendement'] = df_final['SW Portfolio Cumulatief Rendement'].fillna(1.0)\n",
    "    #df_final['Eind Waarde'] =  pd.to_numeric(df_final['Eind Waarde'], downcast = 'float')\n",
    "    columns = ['Start Waarde','Stortingen','Deponeringen', 'Onttrekkingen', 'Lichtingen', 'Eind Waarde', 'Dag Rendement', 'SW Portfolio Cumulatief Rendement', 'EW Portfolio Cumulatief Rendement']\n",
    "    \n",
    "    return df_final[columns]"
   ]
  },
  {
   "cell_type": "code",
   "execution_count": 26,
   "metadata": {},
   "outputs": [],
   "source": [
    "def ZoekPortfOntwikkeling(data, sd, ed):\n",
    "\n",
    "    df = data.loc[sd:ed]\n",
    "    portf_startwaarde = df.loc[sd,['Start Waarde']][0]\n",
    "    portf_stortingen = df.loc[sd:ed,['Stortingen']].sum()[0]\n",
    "    portf_deponeringen = df.loc[sd:ed,['Deponeringen']].sum()[0]\n",
    "    portf_onttrekkingen = df.loc[sd:ed,['Onttrekkingen']].sum()[0]\n",
    "    portf_lichtingen = df.loc[sd:ed,['Lichtingen']].sum()[0]\n",
    "    portf_eindwaarde = df.loc[ed,['Eind Waarde']][0]\n",
    "    portf_startcumrendement = df.loc[sd,['SW Portfolio Cumulatief Rendement']][0]\n",
    "    portf_eindcumrendement = df.loc[ed,['EW Portfolio Cumulatief Rendement']][0]\n",
    "    portf_absrendement = portf_eindwaarde - portf_startwaarde - portf_stortingen - portf_deponeringen + portf_onttrekkingen + portf_lichtingen\n",
    "    portf_cumrendement = (portf_eindcumrendement - portf_startcumrendement) / portf_startcumrendement\n",
    "\n",
    "\n",
    "    overview = ['{:,.2f}'.format(portf_startwaarde), '{:,.2f}'.format(portf_stortingen), '{:,.2f}'.format(portf_deponeringen), \n",
    "    '{:,.2f}'.format(portf_onttrekkingen), '{:,.2f}'.format(portf_lichtingen),'{:,.2f}'.format(portf_eindwaarde), '{:.2%}'.format(portf_startcumrendement), '{:.2%}'.format(portf_eindcumrendement), '{:,.2f}'.format(portf_absrendement), '{:.2%}'.format(portf_cumrendement)]\n",
    "\n",
    "    df_final = pd.DataFrame([overview], columns = ['Start Waarde', 'Stortingen', 'Deponeringen', 'Onttrekkingen', 'Lichtingen', 'Eind Waarde', 'Start Cum Rend', 'Eind Cum Rend', 'Abs Rendement', 'Periode Cum Rendement'])\n",
    "    return df_final"
   ]
  },
  {
   "cell_type": "code",
   "execution_count": 4,
   "metadata": {},
   "outputs": [],
   "source": [
    "def Klantenlijst():\n",
    "    engine = create_engine('sqlite:///DatabaseVB.db')\n",
    "    klantenlijst = pd.read_sql(f'''\n",
    "    select distinct(account_number) from posrecon;\n",
    "    ''', con = engine)\n",
    "    klantenlist = klantenlijst.iloc[:,0]\n",
    "    return klantenlist"
   ]
  },
  {
   "cell_type": "code",
   "execution_count": 5,
   "metadata": {},
   "outputs": [
    {
     "data": {
      "text/plain": [
       "0    295516\n",
       "1    295610\n",
       "2    295704\n",
       "3    295720\n",
       "Name: Account_Number, dtype: int64"
      ]
     },
     "execution_count": 5,
     "metadata": {},
     "output_type": "execute_result"
    }
   ],
   "source": [
    "klanten = Klantenlijst()\n",
    "klanten"
   ]
  },
  {
   "cell_type": "code",
   "execution_count": 17,
   "metadata": {},
   "outputs": [],
   "source": [
    "st_date = '2019-12-10'\n",
    "en_date = '2021-12-21'"
   ]
  },
  {
   "cell_type": "code",
   "execution_count": 14,
   "metadata": {},
   "outputs": [],
   "source": [
    "def Start_date(reknr, start_d):\n",
    "    engine = create_engine('sqlite:///DatabaseVB.db')\n",
    "    start_date = pd.read_sql(f'''\n",
    "        select distinct(datum) from Posrecon where Account_Number = \"{reknr}\"\n",
    "        union\n",
    "        select distinct(datum) from Traderecon where Account_Number = \"{reknr}\"\n",
    "        order by datum asc limit 1;\n",
    "        ''', con = engine)\n",
    "    final_start_date = pd.to_datetime(start_date['Datum'][0]).strftime(\"%Y-%m-%d\")\n",
    "\n",
    "    if start_d < final_start_date:\n",
    "            start_d = final_start_date\n",
    "    return start_d"
   ]
  },
  {
   "cell_type": "code",
   "execution_count": 40,
   "metadata": {},
   "outputs": [],
   "source": [
    "sd1 =  Start_date(295720, st_date)"
   ]
  },
  {
   "cell_type": "code",
   "execution_count": 20,
   "metadata": {},
   "outputs": [],
   "source": [
    "def End_date(reknr, end_d):\n",
    "    engine = create_engine('sqlite:///DatabaseVB.db')\n",
    "    end_date = pd.read_sql(f'''\n",
    "    select distinct(datum) from Posrecon where Account_Number = \"{reknr}\"\n",
    "    union\n",
    "    select distinct(datum) from Traderecon where Account_Number = \"{reknr}\"\n",
    "    order by datum desc limit 1;\n",
    "    ''', con = engine)\n",
    "    final_end_date = pd.to_datetime(end_date['Datum'][0]).strftime(\"%Y-%m-%d\")\n",
    "    \n",
    "    if end_d > final_end_date:\n",
    "        end_d = final_end_date\n",
    "    return end_d"
   ]
  },
  {
   "cell_type": "code",
   "execution_count": 47,
   "metadata": {},
   "outputs": [
    {
     "data": {
      "text/plain": [
       "'2020-10-22'"
      ]
     },
     "execution_count": 47,
     "metadata": {},
     "output_type": "execute_result"
    }
   ],
   "source": [
    "ed1 = End_date(295720, en_date)\n",
    "ed1"
   ]
  },
  {
   "cell_type": "code",
   "execution_count": 37,
   "metadata": {},
   "outputs": [],
   "source": [
    "engine = create_engine('sqlite:///DatabaseVB.db')\n",
    "reknr = 295720\n",
    "database_end_date = pd.read_sql(f'''\n",
    "                select distinct(datum) from Posrecon where Account_Number = \"{reknr}\"\n",
    "                union\n",
    "                select distinct(datum) from Traderecon where Account_Number = \"{reknr}\"\n",
    "                order by datum desc limit 1;\n",
    "                ''', con = engine)"
   ]
  },
  {
   "cell_type": "code",
   "execution_count": 27,
   "metadata": {},
   "outputs": [],
   "source": [
    "def Rapport(klanten, start_d, end_d):\n",
    "    empty = []\n",
    "    for klant in klanten:\n",
    "        sd = Start_date(klant, start_d)\n",
    "        ed = End_date(klant, end_d)\n",
    "        data = GetRendement(klant)\n",
    "        overzicht = ZoekPortfOntwikkeling(data, sd ,ed)\n",
    "        overzicht['Account_Number'] = klant\n",
    "        overzicht['Start_Datum'] = sd\n",
    "        overzicht['Eind_Datum'] = ed\n",
    "        overzicht = overzicht.set_index(['Account_Number'])\n",
    "        empty.append(overzicht.iloc[0])\n",
    "        df = pd.DataFrame(empty)\n",
    "    return df"
   ]
  },
  {
   "cell_type": "code",
   "execution_count": 65,
   "metadata": {},
   "outputs": [],
   "source": [
    "klant = GetRendement(295516)\n",
    "sd1 =  Start_date(295516, st_date)\n",
    "ed1 = End_date(295516, en_date)"
   ]
  },
  {
   "cell_type": "code",
   "execution_count": 52,
   "metadata": {},
   "outputs": [],
   "source": [
    "data = klant.loc[sd1:ed1]"
   ]
  },
  {
   "cell_type": "code",
   "execution_count": 66,
   "metadata": {},
   "outputs": [],
   "source": [
    "def newZoekPortfOntwikkeling(data, sd, ed):\n",
    "\n",
    "    df = data.loc[sd:ed]\n",
    "    portf_startwaarde = df.iloc[1,0]\n",
    "    portf_stortingen = df.iloc[:,1].sum()\n",
    "    portf_deponeringen = df.iloc[:,2].sum()\n",
    "    portf_onttrekkingen = df.iloc[:,3].sum()\n",
    "    portf_lichtingen = df.iloc[:,4].sum()\n",
    "    portf_eindwaarde = df.iloc[-1,5]\n",
    "    portf_startcumrendement = df.iloc[1,7]\n",
    "    portf_eindcumrendement = df.iloc[-1,8]\n",
    "    portf_absrendement = portf_eindwaarde - portf_startwaarde - portf_stortingen - portf_deponeringen + portf_onttrekkingen + portf_lichtingen\n",
    "    portf_cumrendement = (portf_eindcumrendement - portf_startcumrendement) / portf_startcumrendement\n",
    "\n",
    "\n",
    "    overview = ['{:,.2f}'.format(portf_startwaarde), '{:,.2f}'.format(portf_stortingen), '{:,.2f}'.format(portf_deponeringen), \n",
    "    '{:,.2f}'.format(portf_onttrekkingen), '{:,.2f}'.format(portf_lichtingen),'{:,.2f}'.format(portf_eindwaarde), '{:.2%}'.format(portf_startcumrendement), '{:.2%}'.format(portf_eindcumrendement), '{:,.2f}'.format(portf_absrendement), '{:.2%}'.format(portf_cumrendement)]\n",
    "\n",
    "    df_final = pd.DataFrame([overview], columns = ['Start Waarde', 'Stortingen', 'Deponeringen', 'Onttrekkingen', 'Lichtingen', 'Eind Waarde', 'Start Cum Rend', 'Eind Cum Rend', 'Abs Rendement', 'Periode Cum Rendement'])\n",
    "    return df_final"
   ]
  },
  {
   "cell_type": "code",
   "execution_count": 67,
   "metadata": {},
   "outputs": [
    {
     "data": {
      "text/html": [
       "<div>\n",
       "<style scoped>\n",
       "    .dataframe tbody tr th:only-of-type {\n",
       "        vertical-align: middle;\n",
       "    }\n",
       "\n",
       "    .dataframe tbody tr th {\n",
       "        vertical-align: top;\n",
       "    }\n",
       "\n",
       "    .dataframe thead th {\n",
       "        text-align: right;\n",
       "    }\n",
       "</style>\n",
       "<table border=\"1\" class=\"dataframe\">\n",
       "  <thead>\n",
       "    <tr style=\"text-align: right;\">\n",
       "      <th></th>\n",
       "      <th>Start Waarde</th>\n",
       "      <th>Stortingen</th>\n",
       "      <th>Deponeringen</th>\n",
       "      <th>Onttrekkingen</th>\n",
       "      <th>Lichtingen</th>\n",
       "      <th>Eind Waarde</th>\n",
       "      <th>Start Cum Rend</th>\n",
       "      <th>Eind Cum Rend</th>\n",
       "      <th>Abs Rendement</th>\n",
       "      <th>Periode Cum Rendement</th>\n",
       "    </tr>\n",
       "  </thead>\n",
       "  <tbody>\n",
       "    <tr>\n",
       "      <th>0</th>\n",
       "      <td>1,147,926.03</td>\n",
       "      <td>100,000.00</td>\n",
       "      <td>0.00</td>\n",
       "      <td>0.00</td>\n",
       "      <td>0.00</td>\n",
       "      <td>1,213,493.57</td>\n",
       "      <td>100.00%</td>\n",
       "      <td>97.05%</td>\n",
       "      <td>-34,432.46</td>\n",
       "      <td>-2.95%</td>\n",
       "    </tr>\n",
       "  </tbody>\n",
       "</table>\n",
       "</div>"
      ],
      "text/plain": [
       "   Start Waarde  Stortingen Deponeringen Onttrekkingen Lichtingen  \\\n",
       "0  1,147,926.03  100,000.00         0.00          0.00       0.00   \n",
       "\n",
       "    Eind Waarde Start Cum Rend Eind Cum Rend Abs Rendement  \\\n",
       "0  1,213,493.57        100.00%        97.05%    -34,432.46   \n",
       "\n",
       "  Periode Cum Rendement  \n",
       "0                -2.95%  "
      ]
     },
     "execution_count": 67,
     "metadata": {},
     "output_type": "execute_result"
    }
   ],
   "source": [
    "newZoekPortfOntwikkeling(klant,sd1,ed1)"
   ]
  },
  {
   "cell_type": "code",
   "execution_count": null,
   "metadata": {},
   "outputs": [],
   "source": []
  }
 ],
 "metadata": {
  "kernelspec": {
   "display_name": "Python 3",
   "language": "python",
   "name": "python3"
  },
  "language_info": {
   "codemirror_mode": {
    "name": "ipython",
    "version": 3
   },
   "file_extension": ".py",
   "mimetype": "text/x-python",
   "name": "python",
   "nbconvert_exporter": "python",
   "pygments_lexer": "ipython3",
   "version": "3.8.5"
  }
 },
 "nbformat": 4,
 "nbformat_minor": 4
}
