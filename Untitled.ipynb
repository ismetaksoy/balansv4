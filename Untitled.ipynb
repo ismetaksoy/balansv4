{
 "cells": [
  {
   "cell_type": "code",
   "execution_count": 1,
   "metadata": {},
   "outputs": [],
   "source": [
    "import pandas as pd\n",
    "import sqlite3\n",
    "from sqlalchemy import create_engine"
   ]
  },
  {
   "cell_type": "code",
   "execution_count": 11,
   "metadata": {},
   "outputs": [],
   "source": [
    "engine = create_engine('sqlite:///DatabaseVB.db')"
   ]
  },
  {
   "cell_type": "code",
   "execution_count": 33,
   "metadata": {},
   "outputs": [],
   "source": []
  },
  {
   "cell_type": "code",
   "execution_count": 30,
   "metadata": {},
   "outputs": [],
   "source": [
    "# Het systeem kijkt in de database wat de start en eind datums zijn voor de rekeningnummer en geeft deze als output\n",
    "def start_date(reknr):\n",
    "    start_date = pd.read_sql(f'''\n",
    "        select distinct(datum) from Posrecon where Account_Number = \"{reknr}\"\n",
    "        union\n",
    "        select distinct(datum) from Traderecon where Account_Number = \"{reknr}\"\n",
    "        order by datum asc limit 1;\n",
    "        ''', con = engine)\n",
    "    final_start_date = pd.to_datetime(start_date['Datum'][0]).strftime(\"%Y-%m-%d\")\n",
    "    return final_start_date\n",
    "\n",
    "def end_date(reknr):\n",
    "    end_date = pd.read_sql(f'''\n",
    "    select distinct(datum) from Posrecon where Account_Number = \"{reknr}\"\n",
    "    union\n",
    "    select distinct(datum) from Traderecon where Account_Number = \"{reknr}\"\n",
    "    order by datum desc limit 1;\n",
    "    ''', con = engine)\n",
    "    final_end_date = pd.to_datetime(end_date['Datum'][0]).strftime(\"%Y-%m-%d\")\n",
    "    return final_end_date\n",
    "\n",
    "# new_start_date = pd.to_datetime(database_start_date['Datum'][0]).strftime(\"%Y-%m-%d\")\n",
    "# new_end_date = pd.to_datetime(database_end_date['Datum'][0]).strftime(\"%Y-%m-%d\")"
   ]
  },
  {
   "cell_type": "code",
   "execution_count": 65,
   "metadata": {},
   "outputs": [
    {
     "data": {
      "text/plain": [
       "'2020-10-12'"
      ]
     },
     "execution_count": 65,
     "metadata": {},
     "output_type": "execute_result"
    }
   ],
   "source": [
    "end_date(295516)"
   ]
  },
  {
   "cell_type": "code",
   "execution_count": null,
   "metadata": {},
   "outputs": [],
   "source": []
  },
  {
   "cell_type": "code",
   "execution_count": 2,
   "metadata": {},
   "outputs": [],
   "source": [
    "def GetRendement(x):\n",
    "    ### 1: creeeren van brug tussen sql query en database\n",
    "    ### 2a: bepaal de eindwaarde per dag voor klant x\n",
    "    ### 2b: bepaal de stortingen per dag voor klant x\n",
    "    ### 2c: bepaal de deponeringen per dag voor klant x\n",
    "    ### 2d: bepaal de onttrekkingen per dag voor klant x\n",
    "    ### 2e: bepaal de lichtingen per dag voor klant x\n",
    "     \n",
    "    \n",
    "    ### 1: creeeren van brug tussen sql query en database\n",
    "    engine = create_engine('sqlite:///DatabaseVB.db')\n",
    "    \n",
    "    \n",
    "    ### 2a: bepaal de eindwaarde per dag voor klant x (datum, eindwaarde)\n",
    "    df_posrecon = pd.read_sql(f'''SELECT \"Datum\", ROUND(sum(\"Current_Value_in_EUR\"),2) as \"Eind Waarde\" FROM Posrecon WHERE \"Account_Number\" = \"{x}\" group by \"Datum\" order by \"Datum\"''', con = engine).set_index('Datum')\n",
    "    \n",
    "    \n",
    "    ### 2b: bepaal de stortingen per dag voor klant x (datum, stortingen)\n",
    "    ### (som van kolom invoice amount, indien OF (Transaction Type Code=O-G en Reference Code=5026) OF (Transaction Type Code=O-G en Reference Code=5000 en kolom invoice amount >0)\n",
    "    df_stortingen = pd.read_sql (f'''  SELECT \"Datum\", sum(\"Invoice_Amount\") as \"Stortingen\" FROM Traderecon WHERE \"Account_Number\" = \"{x}\"  AND \"Reference_Code\" = 5026 OR (\"Account_Number\" = \"{x}\" AND \"Reference_Code\" = 5000 AND \"Invoice_Amount\" > 0) group by \"Datum\" order by \"Datum\" ''', con = engine).set_index('Datum')\n",
    "    \n",
    "    \n",
    "    ### 2c: bepaal de deponeringen per dag voor klant x (datum, deponeringen)\n",
    "    ### som van kolom Deposit Value, indien (1) Transaction Type Code = D, of (2) Transaction Type Code = O en Deposit value > 0. \n",
    "    \n",
    "    df_deponeringen = pd.read_sql (f''' SELECT \"Datum\", sum(\"Deposit_Value\") as Deponeringen FROM Traderecon WHERE (\"Account_Number\" = \"{x}\" AND \"Transaction_Type_Code\" = \"D\") OR (\"Account_Number\" = \"{x}\" AND \"Transaction_Type_Code\" = \"O\" AND \"Deposit_Value\" > 0) group by \"Datum\" order by \"Datum\" ''', con = engine).set_index('Datum')\n",
    "    \n",
    "    \n",
    "    ### 2d: bepaal de onttrekkingen per dag voor klant x (datum, onttrekkingen)\n",
    "    ### (som van kolom invoice amount *-1, indien (1) Reference Code=5025, (2) Reference Code=5000 en invoice amount < 0.   \n",
    "    df_onttrekking = pd.read_sql (f''' SELECT Datum, sum(\"Invoice_Amount\")*-1 as \"Onttrekkingen\" FROM Traderecon WHERE (\"Account_Number\" = \"{x}\" AND \"Reference_Code\" = 5025) OR (\"Account_Number\" = \"{x}\" AND \"Reference_Code\" = 5000 AND \"Invoice_Amount\" < 0) group by \"Datum\" order by \"Datum\" ''', con = engine).set_index('Datum')\n",
    "    \n",
    "\n",
    "    ### 2e: bepaal de lichtingen per dag voor klant x (datum, lichtingen)\n",
    "    ### som van kolom Deposit Value *-1, indien (1) Transaction Type Code = L, of (2) Transaction Type Code = O en Deposit value < 0. \n",
    "    df_lichtingen = pd.read_sql (f''' SELECT Datum, sum(\"Deposit_Value\")*-1 as \"Lichtingen\"  FROM Traderecon WHERE (\"Account_Number\" = \"{x}\" AND \"Transaction_Type_Code\" = \"L\") OR (\"Account_Number\" = \"{x}\" AND \"Transaction_Type_Code\" = \"O\" AND \"Deposit_Value\" < 0) group by \"Datum\" order by \"Datum\" ''', con = engine).set_index('Datum')\n",
    "\n",
    "\n",
    "    # Concat de 4 dataframes uit de Traderecon query in 1 dataframe en merge deze met de Posrecon dataframe\n",
    "    traderecon_data = [df_onttrekking, df_stortingen, df_lichtingen, df_deponeringen]\n",
    "    df_tot_tr = pd.concat(traderecon_data).fillna(0).groupby(['Datum']).sum()\n",
    "    df_final = df_posrecon.merge(df_tot_tr, on='Datum', how='outer')\n",
    "    \n",
    "    ### VOEG DE OVERBOEKINGEN AAN DE DATAFRAME MET DE WAARDES PORTEFEUILLE\n",
    "    traderecon_columns = ['Onttrekkingen', 'Stortingen', 'Lichtingen', 'Deponeringen']\n",
    "    df_final[traderecon_columns] = df_final[traderecon_columns].fillna(0.0)\n",
    "    \n",
    "    \n",
    "    ### MAAK KOLOM ACTUELE RENDEMENT EN BEREKEN RENDEMENT VAN WAARDE PORTEFEUILLE EN ONTTREKKINGEN / STORTINGEN\n",
    "    # start waarde is de eind waarde van de vorige dag\n",
    "    df_final['Start Waarde'] = df_final[\"Eind Waarde\"].shift(1)\n",
    "    #df_final['Start Waarde'] = df_final[\"Start Waarde\"].fillna(df_final[\"Eind Waarde\"])\n",
    "    df_final['Eind Waarde'] = df_final['Eind Waarde'].fillna(df_final['Start Waarde'] + df_final['Stortingen'] + \n",
    "                                                             df_final['Deponeringen'] - df_final['Onttrekkingen'] - \n",
    "                                                             df_final['Lichtingen'])\n",
    "\n",
    "    df_final['Dag Rendement'] = ((df_final['Eind Waarde'] - df_final['Start Waarde'] - df_final['Stortingen'] - df_final['Deponeringen'] + df_final['Onttrekkingen'] + df_final['Lichtingen'] ) ) / (df_final['Start Waarde'] + df_final['Stortingen'] + df_final['Deponeringen'] - df_final['Onttrekkingen'] - df_final['Lichtingen']).round(5)\n",
    "    df_final['Dag Rendement'] = df_final['Dag Rendement'].fillna(0)  \n",
    "    \n",
    "    \n",
    "    df_final['EW Portfolio Cumulatief Rendement'] = (1 + df_final['Dag Rendement']).cumprod()\n",
    "\n",
    "    df_final['SW Portfolio Cumulatief Rendement'] = df_final['EW Portfolio Cumulatief Rendement'].shift(1)\n",
    "    df_final['SW Portfolio Cumulatief Rendement'] = df_final['SW Portfolio Cumulatief Rendement'].fillna(1)\n",
    "    #df_final['SW Portfolio Cumulatief Rendement'] = df_final['SW Portfolio Cumulatief Rendement'].fillna(1.0)\n",
    "    #df_final['Eind Waarde'] =  pd.to_numeric(df_final['Eind Waarde'], downcast = 'float')\n",
    "    columns = ['Start Waarde','Stortingen','Deponeringen', 'Onttrekkingen', 'Lichtingen', 'Eind Waarde', 'Dag Rendement', 'SW Portfolio Cumulatief Rendement', 'EW Portfolio Cumulatief Rendement']\n",
    "    \n",
    "    return df_final[columns]"
   ]
  },
  {
   "cell_type": "code",
   "execution_count": 5,
   "metadata": {},
   "outputs": [],
   "source": [
    "def ZoekPortfOntwikkeling(data, sd, ed):\n",
    "\n",
    "    df = data.loc[sd:ed]\n",
    "    portf_startwaarde = df.loc[sd,['Start Waarde']][0]\n",
    "    portf_stortingen = df.loc[sd:ed,['Stortingen']].sum()[0]\n",
    "    portf_deponeringen = df.loc[sd:ed,['Deponeringen']].sum()[0]\n",
    "    portf_onttrekkingen = df.loc[sd:ed,['Onttrekkingen']].sum()[0]\n",
    "    portf_lichtingen = df.loc[sd:ed,['Lichtingen']].sum()[0]\n",
    "    portf_eindwaarde = df.loc[ed,['Eind Waarde']][0]\n",
    "    portf_startcumrendement = df.loc[sd,['SW Portfolio Cumulatief Rendement']][0]\n",
    "    portf_eindcumrendement = df.loc[ed,['EW Portfolio Cumulatief Rendement']][0]\n",
    "    portf_absrendement = portf_eindwaarde - portf_startwaarde - portf_stortingen - portf_deponeringen + portf_onttrekkingen + portf_lichtingen\n",
    "    portf_cumrendement = (portf_eindcumrendement - portf_startcumrendement) / portf_startcumrendement\n",
    "\n",
    "\n",
    "    overview = ['{:,.2f}'.format(portf_startwaarde), '{:,.2f}'.format(portf_stortingen), '{:,.2f}'.format(portf_deponeringen), \n",
    "    '{:,.2f}'.format(portf_onttrekkingen), '{:,.2f}'.format(portf_lichtingen),'{:,.2f}'.format(portf_eindwaarde), '{:.2%}'.format(portf_startcumrendement), '{:.2%}'.format(portf_eindcumrendement), '{:,.2f}'.format(portf_absrendement), '{:.2%}'.format(portf_cumrendement)]\n",
    "\n",
    "    df_final = pd.DataFrame([overview], columns = ['Start Waarde', 'Stortingen', 'Deponeringen', 'Onttrekkingen', 'Lichtingen', 'Eind Waarde', 'Start Cum Rend', 'Eind Cum Rend', 'Abs Rendement', 'Periode Cum Rendement'])\n",
    "    return df_final"
   ]
  },
  {
   "cell_type": "code",
   "execution_count": 137,
   "metadata": {},
   "outputs": [],
   "source": []
  },
  {
   "cell_type": "code",
   "execution_count": 344,
   "metadata": {},
   "outputs": [],
   "source": [
    "def rapport(klanten):\n",
    "    empty = {}\n",
    "    \n",
    "    for klant in klanten:\n",
    "        sd = start_date(klant)\n",
    "        ed = end_date(klant)\n",
    "        data = GetRendement(klant)\n",
    "        overzicht = ZoekPortfOntwikkeling(data, sd ,ed)\n",
    "        overzicht['Account_Number'] = klant\n",
    "        overzicht['Start_Datum'] = sd\n",
    "        overzicht['Eind_Datum'] = ed\n",
    "        overzicht = overzicht.set_index(['Account_Number'])\n",
    "        empty = overzicht.to_dict()\n",
    "    return empty"
   ]
  },
  {
   "cell_type": "code",
   "execution_count": 345,
   "metadata": {},
   "outputs": [],
   "source": [
    "test = rapport(list_account_numbers)"
   ]
  },
  {
   "cell_type": "code",
   "execution_count": 346,
   "metadata": {
    "scrolled": true
   },
   "outputs": [],
   "source": [
    "df = pd.DataFrame.from_dict(test)"
   ]
  },
  {
   "cell_type": "code",
   "execution_count": 347,
   "metadata": {},
   "outputs": [
    {
     "data": {
      "text/plain": [
       "{'Start Waarde': {295704: 'nan'},\n",
       " 'Stortingen': {295704: '0.00'},\n",
       " 'Deponeringen': {295704: '0.00'},\n",
       " 'Onttrekkingen': {295704: '35,159.48'},\n",
       " 'Lichtingen': {295704: '776,714.79'},\n",
       " 'Eind Waarde': {295704: '1,815.00'},\n",
       " 'Start Cum Rend': {295704: '100.00%'},\n",
       " 'Eind Cum Rend': {295704: '97.40%'},\n",
       " 'Abs Rendement': {295704: 'nan'},\n",
       " 'Periode Cum Rendement': {295704: '-2.60%'},\n",
       " 'Start_Datum': {295704: '2019-12-31'},\n",
       " 'Eind_Datum': {295704: '2020-08-13'}}"
      ]
     },
     "execution_count": 347,
     "metadata": {},
     "output_type": "execute_result"
    }
   ],
   "source": [
    "test"
   ]
  },
  {
   "cell_type": "code",
   "execution_count": 368,
   "metadata": {},
   "outputs": [],
   "source": [
    "list_account_numbers = [295516, 295610, 295704]"
   ]
  },
  {
   "cell_type": "code",
   "execution_count": 369,
   "metadata": {},
   "outputs": [],
   "source": [
    "def rapport(klanten):\n",
    "    empty = []\n",
    "    for klant in klanten:\n",
    "        sd = start_date(klant)\n",
    "        ed = end_date(klant)\n",
    "        data = GetRendement(klant)\n",
    "        overzicht = ZoekPortfOntwikkeling(data, sd ,ed)\n",
    "        overzicht['Account_Number'] = klant\n",
    "        overzicht['Start_Datum'] = sd\n",
    "        overzicht['Eind_Datum'] = ed\n",
    "        overzicht = overzicht.set_index(['Account_Number'])\n",
    "        empty.append(overzicht.iloc[0])\n",
    "        df = pd.DataFrame(empty)\n",
    "    return df"
   ]
  },
  {
   "cell_type": "code",
   "execution_count": 370,
   "metadata": {},
   "outputs": [],
   "source": [
    "test = rapport(list_account_numbers)"
   ]
  },
  {
   "cell_type": "code",
   "execution_count": 371,
   "metadata": {},
   "outputs": [
    {
     "data": {
      "text/html": [
       "<div>\n",
       "<style scoped>\n",
       "    .dataframe tbody tr th:only-of-type {\n",
       "        vertical-align: middle;\n",
       "    }\n",
       "\n",
       "    .dataframe tbody tr th {\n",
       "        vertical-align: top;\n",
       "    }\n",
       "\n",
       "    .dataframe thead th {\n",
       "        text-align: right;\n",
       "    }\n",
       "</style>\n",
       "<table border=\"1\" class=\"dataframe\">\n",
       "  <thead>\n",
       "    <tr style=\"text-align: right;\">\n",
       "      <th></th>\n",
       "      <th>Start Waarde</th>\n",
       "      <th>Stortingen</th>\n",
       "      <th>Deponeringen</th>\n",
       "      <th>Onttrekkingen</th>\n",
       "      <th>Lichtingen</th>\n",
       "      <th>Eind Waarde</th>\n",
       "      <th>Start Cum Rend</th>\n",
       "      <th>Eind Cum Rend</th>\n",
       "      <th>Abs Rendement</th>\n",
       "      <th>Periode Cum Rendement</th>\n",
       "      <th>Start_Datum</th>\n",
       "      <th>Eind_Datum</th>\n",
       "    </tr>\n",
       "  </thead>\n",
       "  <tbody>\n",
       "    <tr>\n",
       "      <th>295516</th>\n",
       "      <td>nan</td>\n",
       "      <td>100,000.00</td>\n",
       "      <td>0.00</td>\n",
       "      <td>0.00</td>\n",
       "      <td>0.00</td>\n",
       "      <td>1,213,493.57</td>\n",
       "      <td>100.00%</td>\n",
       "      <td>97.05%</td>\n",
       "      <td>nan</td>\n",
       "      <td>-2.95%</td>\n",
       "      <td>2019-12-31</td>\n",
       "      <td>2020-10-12</td>\n",
       "    </tr>\n",
       "    <tr>\n",
       "      <th>295610</th>\n",
       "      <td>nan</td>\n",
       "      <td>104,350.00</td>\n",
       "      <td>0.00</td>\n",
       "      <td>208,700.00</td>\n",
       "      <td>0.00</td>\n",
       "      <td>516,968.75</td>\n",
       "      <td>100.00%</td>\n",
       "      <td>103.79%</td>\n",
       "      <td>nan</td>\n",
       "      <td>3.79%</td>\n",
       "      <td>2019-12-31</td>\n",
       "      <td>2020-10-12</td>\n",
       "    </tr>\n",
       "    <tr>\n",
       "      <th>295704</th>\n",
       "      <td>nan</td>\n",
       "      <td>0.00</td>\n",
       "      <td>0.00</td>\n",
       "      <td>35,159.48</td>\n",
       "      <td>776,714.79</td>\n",
       "      <td>1,815.00</td>\n",
       "      <td>100.00%</td>\n",
       "      <td>97.40%</td>\n",
       "      <td>nan</td>\n",
       "      <td>-2.60%</td>\n",
       "      <td>2019-12-31</td>\n",
       "      <td>2020-08-13</td>\n",
       "    </tr>\n",
       "  </tbody>\n",
       "</table>\n",
       "</div>"
      ],
      "text/plain": [
       "       Start Waarde  Stortingen Deponeringen Onttrekkingen  Lichtingen  \\\n",
       "295516          nan  100,000.00         0.00          0.00        0.00   \n",
       "295610          nan  104,350.00         0.00    208,700.00        0.00   \n",
       "295704          nan        0.00         0.00     35,159.48  776,714.79   \n",
       "\n",
       "         Eind Waarde Start Cum Rend Eind Cum Rend Abs Rendement  \\\n",
       "295516  1,213,493.57        100.00%        97.05%           nan   \n",
       "295610    516,968.75        100.00%       103.79%           nan   \n",
       "295704      1,815.00        100.00%        97.40%           nan   \n",
       "\n",
       "       Periode Cum Rendement Start_Datum  Eind_Datum  \n",
       "295516                -2.95%  2019-12-31  2020-10-12  \n",
       "295610                 3.79%  2019-12-31  2020-10-12  \n",
       "295704                -2.60%  2019-12-31  2020-08-13  "
      ]
     },
     "execution_count": 371,
     "metadata": {},
     "output_type": "execute_result"
    }
   ],
   "source": [
    "test"
   ]
  },
  {
   "cell_type": "code",
   "execution_count": 373,
   "metadata": {},
   "outputs": [],
   "source": [
    "klantenlijst = pd.read_sql(f'''\n",
    "select distinct(account_number) from posrecon;\n",
    "''', con = engine)"
   ]
  },
  {
   "cell_type": "code",
   "execution_count": 392,
   "metadata": {},
   "outputs": [],
   "source": [
    "ab = klantenlijst.iloc[:,0]"
   ]
  },
  {
   "cell_type": "code",
   "execution_count": 400,
   "metadata": {},
   "outputs": [
    {
     "name": "stdout",
     "output_type": "stream",
     "text": [
      "295516\n",
      "295610\n",
      "295704\n",
      "295720\n"
     ]
    }
   ],
   "source": [
    "for i in ab:\n",
    "    print(i)"
   ]
  },
  {
   "cell_type": "code",
   "execution_count": 409,
   "metadata": {},
   "outputs": [],
   "source": [
    "\n",
    "def klantenlijst():\n",
    "    engine = create_engine('sqlite:///DatabaseVB.db')\n",
    "    klantenlijst = pd.read_sql(f'''\n",
    "    select distinct(account_number) from posrecon;\n",
    "    ''', con = engine)\n",
    "    klantenlist = klantenlijst.iloc[0:-1,0]\n",
    "    return klantenlist\n",
    "\n",
    "\n",
    "def start_date(reknr, start_d):\n",
    "    engine = create_engine('sqlite:///DatabaseVB.db')\n",
    "    start_date = pd.read_sql(f'''\n",
    "        select distinct(datum) from Posrecon where Account_Number = \"{reknr}\"\n",
    "        union\n",
    "        select distinct(datum) from Traderecon where Account_Number = \"{reknr}\"\n",
    "        order by datum asc limit 1;\n",
    "        ''', con = engine)\n",
    "    final_start_date = pd.to_datetime(start_date['Datum'][0]).strftime(\"%Y-%m-%d\")\n",
    "\n",
    "    if start_d < new_start_date:\n",
    "            start_d = new_start_date\n",
    "    return start_d\n",
    "    \n",
    "def end_date(reknr, end_d):\n",
    "    engine = create_engine('sqlite:///DatabaseVB.db')\n",
    "    end_date = pd.read_sql(f'''\n",
    "    select distinct(datum) from Posrecon where Account_Number = \"{reknr}\"\n",
    "    union\n",
    "    select distinct(datum) from Traderecon where Account_Number = \"{reknr}\"\n",
    "    order by datum desc limit 1;\n",
    "    ''', con = engine)\n",
    "    final_end_date = pd.to_datetime(end_date['Datum'][0]).strftime(\"%Y-%m-%d\")\n",
    "    \n",
    "    if end_d > final_end_date:\n",
    "        end_d = final_end_date\n",
    "    return end_d\n",
    "\n",
    "def rapport(klanten, sd):\n",
    "    empty = []\n",
    "    for klant in klanten:\n",
    "        sd = start_date(klant, start_d)\n",
    "        ed = end_date(klant)\n",
    "        data = GetRendement(klant)\n",
    "        overzicht = ZoekPortfOntwikkeling(data, sd ,ed)\n",
    "        overzicht['Account_Number'] = klant\n",
    "        overzicht['Start_Datum'] = sd\n",
    "        overzicht['Eind_Datum'] = ed\n",
    "        overzicht = overzicht.set_index(['Account_Number'])\n",
    "        empty.append(overzicht.iloc[0])\n",
    "        df = pd.DataFrame(empty)\n",
    "    return df"
   ]
  },
  {
   "cell_type": "code",
   "execution_count": 410,
   "metadata": {
    "scrolled": true
   },
   "outputs": [
    {
     "data": {
      "text/html": [
       "<div>\n",
       "<style scoped>\n",
       "    .dataframe tbody tr th:only-of-type {\n",
       "        vertical-align: middle;\n",
       "    }\n",
       "\n",
       "    .dataframe tbody tr th {\n",
       "        vertical-align: top;\n",
       "    }\n",
       "\n",
       "    .dataframe thead th {\n",
       "        text-align: right;\n",
       "    }\n",
       "</style>\n",
       "<table border=\"1\" class=\"dataframe\">\n",
       "  <thead>\n",
       "    <tr style=\"text-align: right;\">\n",
       "      <th></th>\n",
       "      <th>Start Waarde</th>\n",
       "      <th>Stortingen</th>\n",
       "      <th>Deponeringen</th>\n",
       "      <th>Onttrekkingen</th>\n",
       "      <th>Lichtingen</th>\n",
       "      <th>Eind Waarde</th>\n",
       "      <th>Start Cum Rend</th>\n",
       "      <th>Eind Cum Rend</th>\n",
       "      <th>Abs Rendement</th>\n",
       "      <th>Periode Cum Rendement</th>\n",
       "      <th>Start_Datum</th>\n",
       "      <th>Eind_Datum</th>\n",
       "    </tr>\n",
       "  </thead>\n",
       "  <tbody>\n",
       "    <tr>\n",
       "      <th>295516</th>\n",
       "      <td>nan</td>\n",
       "      <td>100,000.00</td>\n",
       "      <td>0.00</td>\n",
       "      <td>0.00</td>\n",
       "      <td>0.00</td>\n",
       "      <td>1,213,493.57</td>\n",
       "      <td>100.00%</td>\n",
       "      <td>97.05%</td>\n",
       "      <td>nan</td>\n",
       "      <td>-2.95%</td>\n",
       "      <td>2019-12-31</td>\n",
       "      <td>2020-10-12</td>\n",
       "    </tr>\n",
       "    <tr>\n",
       "      <th>295610</th>\n",
       "      <td>nan</td>\n",
       "      <td>104,350.00</td>\n",
       "      <td>0.00</td>\n",
       "      <td>208,700.00</td>\n",
       "      <td>0.00</td>\n",
       "      <td>516,968.75</td>\n",
       "      <td>100.00%</td>\n",
       "      <td>103.79%</td>\n",
       "      <td>nan</td>\n",
       "      <td>3.79%</td>\n",
       "      <td>2019-12-31</td>\n",
       "      <td>2020-10-12</td>\n",
       "    </tr>\n",
       "    <tr>\n",
       "      <th>295704</th>\n",
       "      <td>nan</td>\n",
       "      <td>0.00</td>\n",
       "      <td>0.00</td>\n",
       "      <td>35,159.48</td>\n",
       "      <td>776,714.79</td>\n",
       "      <td>1,815.00</td>\n",
       "      <td>100.00%</td>\n",
       "      <td>97.40%</td>\n",
       "      <td>nan</td>\n",
       "      <td>-2.60%</td>\n",
       "      <td>2019-12-31</td>\n",
       "      <td>2020-08-13</td>\n",
       "    </tr>\n",
       "  </tbody>\n",
       "</table>\n",
       "</div>"
      ],
      "text/plain": [
       "       Start Waarde  Stortingen Deponeringen Onttrekkingen  Lichtingen  \\\n",
       "295516          nan  100,000.00         0.00          0.00        0.00   \n",
       "295610          nan  104,350.00         0.00    208,700.00        0.00   \n",
       "295704          nan        0.00         0.00     35,159.48  776,714.79   \n",
       "\n",
       "         Eind Waarde Start Cum Rend Eind Cum Rend Abs Rendement  \\\n",
       "295516  1,213,493.57        100.00%        97.05%           nan   \n",
       "295610    516,968.75        100.00%       103.79%           nan   \n",
       "295704      1,815.00        100.00%        97.40%           nan   \n",
       "\n",
       "       Periode Cum Rendement Start_Datum  Eind_Datum  \n",
       "295516                -2.95%  2019-12-31  2020-10-12  \n",
       "295610                 3.79%  2019-12-31  2020-10-12  \n",
       "295704                -2.60%  2019-12-31  2020-08-13  "
      ]
     },
     "execution_count": 410,
     "metadata": {},
     "output_type": "execute_result"
    }
   ],
   "source": [
    "rapport(klantenlijst())"
   ]
  },
  {
   "cell_type": "code",
   "execution_count": 411,
   "metadata": {},
   "outputs": [
    {
     "data": {
      "text/plain": [
       "0    295516\n",
       "1    295610\n",
       "2    295704\n",
       "Name: Account_Number, dtype: int64"
      ]
     },
     "execution_count": 411,
     "metadata": {},
     "output_type": "execute_result"
    }
   ],
   "source": [
    "klantenlijst()"
   ]
  },
  {
   "cell_type": "code",
   "execution_count": 416,
   "metadata": {},
   "outputs": [],
   "source": [
    "def Invoice_amount():\n",
    "    engine = create_engine('sqlite:///DatabaseVB.db')\n",
    "    df = pd.read_sql(f'''\n",
    "    select Account_Number, Datum, Invoice_Amount\n",
    "    from traderecon\n",
    "    where Reference_code = 5200\n",
    "    order by Account_number asc, Datum asc;\n",
    "    ''', con = engine).set_index('Account_Number')\n",
    "    return df"
   ]
  },
  {
   "cell_type": "code",
   "execution_count": 417,
   "metadata": {},
   "outputs": [
    {
     "data": {
      "text/html": [
       "<div>\n",
       "<style scoped>\n",
       "    .dataframe tbody tr th:only-of-type {\n",
       "        vertical-align: middle;\n",
       "    }\n",
       "\n",
       "    .dataframe tbody tr th {\n",
       "        vertical-align: top;\n",
       "    }\n",
       "\n",
       "    .dataframe thead th {\n",
       "        text-align: right;\n",
       "    }\n",
       "</style>\n",
       "<table border=\"1\" class=\"dataframe\">\n",
       "  <thead>\n",
       "    <tr style=\"text-align: right;\">\n",
       "      <th></th>\n",
       "      <th>Datum</th>\n",
       "      <th>Invoice_Amount</th>\n",
       "    </tr>\n",
       "    <tr>\n",
       "      <th>Account_Number</th>\n",
       "      <th></th>\n",
       "      <th></th>\n",
       "    </tr>\n",
       "  </thead>\n",
       "  <tbody>\n",
       "    <tr>\n",
       "      <th>295516</th>\n",
       "      <td>2020-07-01</td>\n",
       "      <td>-25</td>\n",
       "    </tr>\n",
       "    <tr>\n",
       "      <th>295516</th>\n",
       "      <td>2020-07-24</td>\n",
       "      <td>-105</td>\n",
       "    </tr>\n",
       "    <tr>\n",
       "      <th>295516</th>\n",
       "      <td>2020-07-24</td>\n",
       "      <td>-500</td>\n",
       "    </tr>\n",
       "    <tr>\n",
       "      <th>295610</th>\n",
       "      <td>2020-07-01</td>\n",
       "      <td>-25</td>\n",
       "    </tr>\n",
       "    <tr>\n",
       "      <th>295704</th>\n",
       "      <td>2020-05-22</td>\n",
       "      <td>71.7</td>\n",
       "    </tr>\n",
       "    <tr>\n",
       "      <th>295704</th>\n",
       "      <td>2020-07-01</td>\n",
       "      <td>-25</td>\n",
       "    </tr>\n",
       "    <tr>\n",
       "      <th>295704</th>\n",
       "      <td>2020-08-13</td>\n",
       "      <td>-1500</td>\n",
       "    </tr>\n",
       "    <tr>\n",
       "      <th>295704</th>\n",
       "      <td>2020-08-13</td>\n",
       "      <td>-315</td>\n",
       "    </tr>\n",
       "  </tbody>\n",
       "</table>\n",
       "</div>"
      ],
      "text/plain": [
       "                     Datum Invoice_Amount\n",
       "Account_Number                           \n",
       "295516          2020-07-01            -25\n",
       "295516          2020-07-24           -105\n",
       "295516          2020-07-24           -500\n",
       "295610          2020-07-01            -25\n",
       "295704          2020-05-22           71.7\n",
       "295704          2020-07-01            -25\n",
       "295704          2020-08-13          -1500\n",
       "295704          2020-08-13           -315"
      ]
     },
     "execution_count": 417,
     "metadata": {},
     "output_type": "execute_result"
    }
   ],
   "source": [
    "Invoice_amount()"
   ]
  },
  {
   "cell_type": "code",
   "execution_count": null,
   "metadata": {},
   "outputs": [],
   "source": []
  }
 ],
 "metadata": {
  "kernelspec": {
   "display_name": "Python 3",
   "language": "python",
   "name": "python3"
  },
  "language_info": {
   "codemirror_mode": {
    "name": "ipython",
    "version": 3
   },
   "file_extension": ".py",
   "mimetype": "text/x-python",
   "name": "python",
   "nbconvert_exporter": "python",
   "pygments_lexer": "ipython3",
   "version": "3.8.5"
  }
 },
 "nbformat": 4,
 "nbformat_minor": 4
}
